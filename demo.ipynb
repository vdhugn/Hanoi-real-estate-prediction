{
 "cells": [
  {
   "cell_type": "code",
   "execution_count": 11,
   "metadata": {},
   "outputs": [],
   "source": [
    "import joblib\n",
    "import numpy as np"
   ]
  },
  {
   "cell_type": "code",
   "execution_count": 2,
   "metadata": {},
   "outputs": [],
   "source": [
    "rgr = joblib.load(f'trained_models/MLPRegressor.joblib')\n"
   ]
  },
  {
   "cell_type": "code",
   "execution_count": 3,
   "metadata": {},
   "outputs": [],
   "source": [
    "area = float(input(\"Enter the area of the property: \"))\n",
    "property_type = input(\"Enter the type of the property: \")\n",
    "district = input(\"Enter the district of the property: \")\n",
    "road_width = float(input(\"Enter the road width of the property: \"))\n",
    "width = float(input(\"Enter the width of the property: \"))\n",
    "floors = int(input(\"Enter the number of floors in the property: \"))\n",
    "parking_slots = int(input(\"Enter the number of parking slots: \"))\n",
    "bedrooms = int(input(\"Enter the number of bedrooms: \"))\n",
    "\n",
    "data = [area, (1 if property_type=='Nhà mặt phố' else 0), road_width, width, floors, parking_slots, bedrooms]\n",
    "\n",
    "\n",
    "district_encoded = [0 for i in range(11)]\n",
    "district_values_set = ['Quận Cầu Giấy', \n",
    "                       'Quận Tây Hồ', \n",
    "                       'Quận Đống Đa', \n",
    "                       'Quận Ba Đình', \n",
    "                       'Quận Hai Bà Trưng', \n",
    "                       'Quận Thanh Xuân', \n",
    "                       'Quận Nam Từ Liêm', \n",
    "                       'Quận Hà Đông', \n",
    "                       'Quận Long Biên', \n",
    "                       'Quận Bắc Từ Liêm', \n",
    "                       'Quận Hoàng Mai']\n",
    "for i in range(11):\n",
    "    if district == district_values_set[i]:\n",
    "        district_encoded[i] = 1\n",
    "\n",
    "data += district_encoded"
   ]
  },
  {
   "cell_type": "code",
   "execution_count": 12,
   "metadata": {},
   "outputs": [
    {
     "name": "stdout",
     "output_type": "stream",
     "text": [
      "The predicted price of the property is VND 15.39 billions\n"
     ]
    },
    {
     "name": "stderr",
     "output_type": "stream",
     "text": [
      "c:\\Users\\longn\\AppData\\Local\\Programs\\Python\\Python311\\Lib\\site-packages\\sklearn\\base.py:439: UserWarning: X does not have valid feature names, but MLPRegressor was fitted with feature names\n",
      "  warnings.warn(\n"
     ]
    }
   ],
   "source": [
    "prediction = np.round(rgr.predict([data])[0], 2)\n",
    "print(f'The predicted price of the property is VND {prediction} billions')"
   ]
  }
 ],
 "metadata": {
  "kernelspec": {
   "display_name": "Python 3",
   "language": "python",
   "name": "python3"
  },
  "language_info": {
   "codemirror_mode": {
    "name": "ipython",
    "version": 3
   },
   "file_extension": ".py",
   "mimetype": "text/x-python",
   "name": "python",
   "nbconvert_exporter": "python",
   "pygments_lexer": "ipython3",
   "version": "3.11.4"
  }
 },
 "nbformat": 4,
 "nbformat_minor": 2
}
